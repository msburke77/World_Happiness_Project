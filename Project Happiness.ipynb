{
 "cells": [
  {
   "cell_type": "code",
   "execution_count": null,
   "id": "75650b09",
   "metadata": {},
   "outputs": [],
   "source": [
    "import pandas as pd\n",
    "import numpy as np\n",
    "\n",
    "# Import the world-happiness-report csv\n",
    "\n",
    "country_happiness_df = pd.read_csv(\"./resources/world-happiness-report.csv\")\n",
    "country_happiness_df.head()"
   ]
  },
  {
   "cell_type": "code",
   "execution_count": null,
   "id": "1bf8d038",
   "metadata": {},
   "outputs": [],
   "source": [
    "# View column headers\n",
    "country_happiness_df.columns"
   ]
  },
  {
   "cell_type": "code",
   "execution_count": null,
   "id": "bfb18aeb",
   "metadata": {},
   "outputs": [],
   "source": [
    "# Make all columns lowercase\n",
    "country_happiness_df = country_happiness_df.rename(columns={\n",
    "    \"Country name\": \"country\",\n",
    "    \"Life Ladder\": \"life_ladder\",\n",
    "    \"Log GDP per capita\": \"log_gdp_per_capita\",\n",
    "    \"Social support\": \"social_support\",\n",
    "    \"Healthy life expectancy at birth\": \"healthy_life_expectancy_at_birth\",\n",
    "    \"Freedom to make life choices\": \"freedom_to_make_life_choices\",\n",
    "    \"Generosity\": \"generosity\",\n",
    "    \"Perceptions of corruption\": \"perceptions_of_corruption\",\n",
    "    \"Positive affect\": \"positive_affect\",\n",
    "    \"Negative affect\": \"negative_affect\"\n",
    "})\n",
    "country_happiness_df.head()"
   ]
  },
  {
   "cell_type": "code",
   "execution_count": null,
   "id": "cc5ad9a4",
   "metadata": {
    "scrolled": true
   },
   "outputs": [],
   "source": [
    "# Only show years 2015 - 2021\n",
    "country_happiness_df = country_happiness_df.loc[(country_happiness_df['year'] >= 2015) & (country_happiness_df['year'] <= 2021)]\n",
    "country_happiness_df.head()"
   ]
  },
  {
   "cell_type": "code",
   "execution_count": null,
   "id": "6c37db00",
   "metadata": {},
   "outputs": [],
   "source": [
    "# Import the daily_weather_data csv\n",
    "\n",
    "weather_df = pd.read_csv(\"./resources/daily_weather_data.csv\")\n",
    "weather_df"
   ]
  },
  {
   "cell_type": "code",
   "execution_count": null,
   "id": "b9de1e83",
   "metadata": {
    "scrolled": true
   },
   "outputs": [],
   "source": [
    "# View column headers\n",
    "weather_df.columns"
   ]
  },
  {
   "cell_type": "code",
   "execution_count": null,
   "id": "2643299e",
   "metadata": {},
   "outputs": [],
   "source": [
    "# Make all columns lowercase\n",
    "weather_df = weather_df.rename(columns={\n",
    "    \"Latitude\": \"latitude\",\n",
    "    \"Longitude\": \"longitude\",\n",
    "})\n",
    "weather_df.head()"
   ]
  },
  {
   "cell_type": "code",
   "execution_count": null,
   "id": "3e3ee638",
   "metadata": {},
   "outputs": [],
   "source": [
    "# Converted date to proper YYYYMMDD\n",
    "weather_df[\"date\"] = pd.to_datetime(weather_df[\"date\"], format='%d-%m-%Y')\n",
    "weather_df.head()"
   ]
  },
  {
   "cell_type": "code",
   "execution_count": null,
   "id": "5169dc7e",
   "metadata": {},
   "outputs": [],
   "source": [
    "# Extract year component and create new column \"year\"\n",
    "weather_df[\"year\"] = weather_df[\"date\"].dt.year\n",
    "\n",
    "# Move \"year\" column next to \"date\" column\n",
    "weather_df.insert(1, \"year\", weather_df.pop(\"year\"))\n",
    "\n",
    "weather_df.head()"
   ]
  },
  {
   "cell_type": "code",
   "execution_count": null,
   "id": "581a1147",
   "metadata": {
    "scrolled": true
   },
   "outputs": [],
   "source": [
    "# Group data by year and country and calculate average temperature data\n",
    "yearly_country_avg = weather_df.groupby([\"year\", \"country\"]).mean()\n",
    "yearly_country_avg"
   ]
  },
  {
   "cell_type": "code",
   "execution_count": null,
   "id": "436aff01",
   "metadata": {
    "scrolled": true
   },
   "outputs": [],
   "source": [
    "# Merge the Happiness and Weather dataframes together\n",
    "merged_df = pd.merge(country_happiness_df, weather_df, on=[\"country\", \"year\"])\n",
    "merged_df.head()"
   ]
  },
  {
   "cell_type": "code",
   "execution_count": null,
   "id": "23e7093d",
   "metadata": {
    "scrolled": true
   },
   "outputs": [],
   "source": [
    "# Group merged_df by year and country\n",
    "grouped_by_year_country = merged_df.groupby([\"year\", \"country\"])\n",
    "\n",
    "# Calculate the mean of each group\n",
    "yearly_country_mean = grouped_by_year_country.mean()\n",
    "yearly_country_mean"
   ]
  },
  {
   "cell_type": "code",
   "execution_count": null,
   "id": "a478edd8",
   "metadata": {},
   "outputs": [],
   "source": [
    "# Check for missing values in the dataframe\n",
    "print(yearly_country_mean.isnull().sum())"
   ]
  },
  {
   "cell_type": "code",
   "execution_count": null,
   "id": "6b5e8f67",
   "metadata": {},
   "outputs": [],
   "source": [
    "# Replace empty values with NaN\n",
    "yearly_country_mean = yearly_country_mean.replace(\"\", np.nan)\n",
    "\n",
    "# Fill missing values with 0\n",
    "yearly_country_mean = yearly_country_mean.fillna(0)"
   ]
  },
  {
   "cell_type": "code",
   "execution_count": null,
   "id": "c48a2b28",
   "metadata": {
    "scrolled": false
   },
   "outputs": [],
   "source": [
    "# Check for missing values in the dataframe\n",
    "print(yearly_country_mean.isnull().sum())"
   ]
  },
  {
   "cell_type": "code",
   "execution_count": null,
   "id": "2451e718",
   "metadata": {
    "scrolled": true
   },
   "outputs": [],
   "source": [
    "# Check the data type\n",
    "yearly_country_mean.info()"
   ]
  },
  {
   "cell_type": "code",
   "execution_count": null,
   "id": "9e0aa3b8",
   "metadata": {},
   "outputs": [],
   "source": [
    "from sqlalchemy import create_engine\n",
    "from config import username, password, hostname, port, db\n",
    "\n",
    "# username = \"postgres\"\n",
    "# password = \"postgres\"\n",
    "# hostname = \"localhost\"\n",
    "# port = \"5432\"\n",
    "# db = \"project_3\"\n",
    "\n",
    "engine = create_engine(f'postgresql+psycopg2://{username}:{password}@{hostname}:{port}/{db}')\n"
   ]
  },
  {
   "cell_type": "code",
   "execution_count": null,
   "id": "ab5ce1a6",
   "metadata": {},
   "outputs": [],
   "source": [
    "# With enine.connect() as conn:\n",
    "yearly_country_mean.to_sql(\"happiness_weather\", con=engine, if_exists=\"replace\", index=False)"
   ]
  },
  {
   "cell_type": "code",
   "execution_count": null,
   "id": "0d818f31",
   "metadata": {},
   "outputs": [],
   "source": [
    "from sqlalchemy import text\n",
    "with engine.connect() as connection:\n",
    "    result = connection.execute(text(\"SELECT * FROM happiness_weather\"))\n",
    "    for row in result:\n",
    "        print(row)"
   ]
  },
  {
   "cell_type": "code",
   "execution_count": null,
   "id": "5c8a7778",
   "metadata": {},
   "outputs": [],
   "source": [
    "conn = engine.connect()\n",
    "query = \"SELECT * FROM happiness_weather\"\n",
    "df = pd.read_sql(query, conn)\n",
    "print(df)"
   ]
  },
  {
   "cell_type": "code",
   "execution_count": null,
   "id": "666a014d",
   "metadata": {},
   "outputs": [],
   "source": [
    "# Export the csv file\n",
    "# yearly_country_mean.to_csv(\"combined_happiness_weather.csv\")"
   ]
  },
  {
   "cell_type": "code",
   "execution_count": null,
   "id": "abc3f6f9",
   "metadata": {},
   "outputs": [],
   "source": [
    "import statsmodels.api as sm\n",
    "# Load data from CSV file\n",
    "\n",
    "data = merged_df"
   ]
  },
  {
   "cell_type": "code",
   "execution_count": null,
   "id": "b7893573",
   "metadata": {},
   "outputs": [],
   "source": [
    "# Create a linear regression model with life_ladder as the response variable and tavg as the predictor variable\n",
    "model = sm.formula.ols('life_ladder ~ tavg', data=data).fit()\n",
    "# Print the model summary\n",
    "print(model.summary())"
   ]
  },
  {
   "cell_type": "code",
   "execution_count": null,
   "id": "9b8614ee",
   "metadata": {},
   "outputs": [],
   "source": [
    "# Load data from CSV file\n",
    "data = merged_df\n",
    "# Create a linear regression model with life_ladder as the response variable and tavg as the predictor variable\n",
    "model = sm.formula.ols('life_ladder ~ pres', data=data).fit()\n",
    "# Print the model summary\n",
    "print(model.summary())"
   ]
  },
  {
   "cell_type": "code",
   "execution_count": null,
   "id": "bb3d829b",
   "metadata": {},
   "outputs": [],
   "source": [
    "# Load data from CSV file\n",
    "data = merged_df\n",
    "# Create a linear regression model with life_ladder as the response variable and tavg as the predictor variable\n",
    "model = sm.formula.ols('life_ladder ~ wspd', data=data).fit()\n",
    "# Print the model summary\n",
    "print(model.summary())"
   ]
  }
 ],
 "metadata": {
  "kernelspec": {
   "display_name": "Python 3 (ipykernel)",
   "language": "python",
   "name": "python3"
  },
  "language_info": {
   "codemirror_mode": {
    "name": "ipython",
    "version": 3
   },
   "file_extension": ".py",
   "mimetype": "text/x-python",
   "name": "python",
   "nbconvert_exporter": "python",
   "pygments_lexer": "ipython3",
   "version": "3.9.13"
  }
 },
 "nbformat": 4,
 "nbformat_minor": 5
}
